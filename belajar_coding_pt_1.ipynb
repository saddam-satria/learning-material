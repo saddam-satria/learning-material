{
  "nbformat": 4,
  "nbformat_minor": 0,
  "metadata": {
    "colab": {
      "provenance": [],
      "authorship_tag": "ABX9TyO4T345OOMl91kjyj9+j4tO",
      "include_colab_link": true
    },
    "kernelspec": {
      "name": "python3",
      "display_name": "Python 3"
    },
    "language_info": {
      "name": "python"
    }
  },
  "cells": [
    {
      "cell_type": "markdown",
      "metadata": {
        "id": "view-in-github",
        "colab_type": "text"
      },
      "source": [
        "<a href=\"https://colab.research.google.com/github/saddam-satria/learning-material/blob/master/belajar_coding_pt_1.ipynb\" target=\"_parent\"><img src=\"https://colab.research.google.com/assets/colab-badge.svg\" alt=\"Open In Colab\"/></a>"
      ]
    },
    {
      "cell_type": "markdown",
      "source": [
        "\n",
        "## Variabel\n",
        "\n",
        "Variabel digunakan ketika kita ingin menampung sementara suatu nilai \n",
        "\n",
        "*note \n",
        "jangan terlalu banyak membuat variabel karena nantinya variabel akan di simpan kedalam memory"
      ],
      "metadata": {
        "id": "mozREnOp6CXO"
      }
    },
    {
      "cell_type": "code",
      "execution_count": null,
      "metadata": {
        "id": "6Sl1QzIu3Igu"
      },
      "outputs": [],
      "source": [
        "a = 10\n",
        "b = 20"
      ]
    },
    {
      "cell_type": "markdown",
      "source": [
        "terdapat 2 variabel yaitu a dan b dengan nilai masing² yaitu 10 dan 20\n",
        "\n",
        "\n",
        "#### note\n",
        "nilai dalam variabel itu bebas, kita bisa menyimpan apapun di dalam variabel\n",
        "\n",
        "#### studi kasus\n",
        "- biasanya pada pembuatan back end setiap query data dari database akan di simpan ke dalam variabel untuk di proses selanjutnya\n",
        "\n",
        "- pada front end biasanya variabel digunakan untuk menampung nilai tertentu yang sifatnya dynamic (berubah ubah)\n",
        "\n",
        "- pada kasus tertentu variabel juga dapat bersifat function"
      ],
      "metadata": {
        "id": "oG_QU3FB6jso"
      }
    },
    {
      "cell_type": "code",
      "source": [
        "b = a + b"
      ],
      "metadata": {
        "id": "m1yVTxBN8V8W"
      },
      "execution_count": null,
      "outputs": []
    },
    {
      "cell_type": "code",
      "source": [
        "print(b)"
      ],
      "metadata": {
        "colab": {
          "base_uri": "https://localhost:8080/"
        },
        "id": "y_-xeWvU8ajd",
        "outputId": "17ac8043-3737-425b-95ac-fd869d132deb"
      },
      "execution_count": null,
      "outputs": [
        {
          "output_type": "stream",
          "name": "stdout",
          "text": [
            "30\n"
          ]
        }
      ]
    },
    {
      "cell_type": "markdown",
      "source": [
        "## tipe data\n",
        "\n",
        "1. Int \n",
        "2. Float\n",
        "3. String\n",
        "4. Array\n",
        "5. Object (dictionary)\n",
        "6. boolean"
      ],
      "metadata": {
        "id": "BaO64r718dHQ"
      }
    },
    {
      "cell_type": "code",
      "source": [
        "a = 10\n",
        "b = 2.0\n",
        "c = \"belajar coding\"\n",
        "d = [\"test\",1]\n",
        "e = {\"a\" : \"coding\", \"b\": 1}\n",
        "f = True"
      ],
      "metadata": {
        "id": "oLPJXCbm8s7u"
      },
      "execution_count": null,
      "outputs": []
    },
    {
      "cell_type": "code",
      "source": [
        "print (type(a))\n",
        "print (type(b))\n",
        "print (type(c))\n",
        "print (type(d))\n",
        "print (type(e))\n",
        "print (type(f))"
      ],
      "metadata": {
        "colab": {
          "base_uri": "https://localhost:8080/"
        },
        "id": "yawj26Qr9CgS",
        "outputId": "590bd694-c50d-4fcc-87c6-da9da51c4683"
      },
      "execution_count": null,
      "outputs": [
        {
          "output_type": "stream",
          "name": "stdout",
          "text": [
            "<class 'int'>\n",
            "<class 'float'>\n",
            "<class 'str'>\n",
            "<class 'list'>\n",
            "<class 'dict'>\n",
            "<class 'bool'>\n"
          ]
        }
      ]
    },
    {
      "cell_type": "markdown",
      "source": [
        "\n",
        "#### tipe data yang sering digunakan\n",
        "1. int,float,string,boolean\n",
        "2. array \n",
        "3. object/dictionary\n",
        "4. array object / array associative (PHP)\n",
        "\n",
        "\n",
        "#### array object (point ke-4) case\n",
        "- biasanya data yang di ambil dari database\n",
        "- ketika memasukkan data ke dalam database\n",
        "- bentuk format JSON / Ajax (http request) selalu dikembalikan dalam bentuk array object \n",
        "  contoh: list produk yang memiliki nama di tiap produknya"
      ],
      "metadata": {
        "id": "Z98-HKYq9yQW"
      }
    },
    {
      "cell_type": "code",
      "source": [
        "products = [\n",
        "   {\n",
        "     \"name\" : \"candy\",\n",
        "      \"price\" : 1\n",
        "   },\n",
        "   {\n",
        "     \"name\": \"chocolate\",\n",
        "     \"price\" : 2\n",
        "   }\n",
        "]"
      ],
      "metadata": {
        "id": "QJTD6Gva_QXU"
      },
      "execution_count": null,
      "outputs": []
    },
    {
      "cell_type": "markdown",
      "source": [
        "untuk memproses data seperti di butuhkan looping (perulangan)"
      ],
      "metadata": {
        "id": "uBERCpar_y9S"
      }
    },
    {
      "cell_type": "code",
      "source": [
        "for i in products:\n",
        "    print (i[\"name\"])\n",
        "print(\"*\"*20)\n",
        "for i in products:\n",
        "    print(i[\"price\"])"
      ],
      "metadata": {
        "colab": {
          "base_uri": "https://localhost:8080/"
        },
        "id": "HdTSDWkK_vDj",
        "outputId": "d9fa29d6-67e3-4284-9122-ae66c26af554"
      },
      "execution_count": null,
      "outputs": [
        {
          "output_type": "stream",
          "name": "stdout",
          "text": [
            "candy\n",
            "chocolate\n",
            "********************\n",
            "1\n",
            "2\n"
          ]
        }
      ]
    },
    {
      "cell_type": "markdown",
      "source": [
        "Convert tipe data dapat dilakukan jika tipe data tidak sesuai\n",
        "\n",
        "- biasanya pada operasi matematika dibutuhkan tipe data int/float, namun sering kali data yang diterima dan akan diproses bertipe data string"
      ],
      "metadata": {
        "id": "XFrD7Zh7sfog"
      }
    },
    {
      "cell_type": "code",
      "source": [
        "x = 10\n",
        "print (type(x))\n",
        "x = str(x)\n",
        "print (type(x))"
      ],
      "metadata": {
        "colab": {
          "base_uri": "https://localhost:8080/"
        },
        "id": "OelMD0aJskr4",
        "outputId": "bece0f93-bbf4-487d-8db7-1a9f99c88270"
      },
      "execution_count": null,
      "outputs": [
        {
          "output_type": "stream",
          "name": "stdout",
          "text": [
            "<class 'int'>\n",
            "<class 'str'>\n"
          ]
        }
      ]
    },
    {
      "cell_type": "code",
      "source": [
        "if not type(x) is int:\n",
        "   raise TypeError(\"x is not number\")"
      ],
      "metadata": {
        "id": "E5j2jOGguDAn"
      },
      "execution_count": null,
      "outputs": []
    },
    {
      "cell_type": "code",
      "source": [
        "userInput = input (\"choose 1-100 \")\n",
        "print (type(userInput))\n",
        "\n",
        "userInput = int(userInput)\n",
        "print (type(userInput))"
      ],
      "metadata": {
        "id": "SailAY8EtBye"
      },
      "execution_count": null,
      "outputs": []
    },
    {
      "cell_type": "markdown",
      "source": [
        "## looping & pengkondisian\n",
        "\n",
        "\n",
        "#### note\n",
        "- pada dasarnya cara komputer memproses script adalah dari atas sampai ke bawah dan dilakukan secara synchronous \n",
        "\n",
        "  artinya ketika ada suatu perulangan, maka perulangan tsb harus berhenti terlebih dahulu baru code berikutnya dijalankan\n",
        "\n",
        "- tips untuk pengkondisian, jangan fokus kepada pengkondisian bersarang,tunggal,dll. Karena, pengkondisian tetaplah kondisi jadi harus sesuai sama casenya nanti\n",
        "  \n",
        "  jika terlalu banyak if maka program akan sulit untuk dibaca oleh manusia, maka dari itu buatlah function khusus untuk pengkondisian saja dengan bantuan tipe data boolean sebagai acuannya (triggernya). Akan di bahas pada sesi function"
      ],
      "metadata": {
        "id": "EFvu6oHuBJXr"
      }
    },
    {
      "cell_type": "code",
      "source": [
        "\n",
        "print(\"looping berjalan\")\n",
        "\n",
        "for i in range (1,11):\n",
        "    print(f\"looping ke-{i}\")\n",
        "\n",
        "\n",
        "print (\"looping terhenti\")"
      ],
      "metadata": {
        "id": "Domx5J7hCjsl"
      },
      "execution_count": null,
      "outputs": []
    },
    {
      "cell_type": "code",
      "source": [
        "product = products [0]\n",
        "\n",
        "if product[\"name\"] == \"candy\":\n",
        "   print(\"this is a candy\")\n",
        "else:\n",
        "   print(\"this is not candy\")"
      ],
      "metadata": {
        "id": "C1zn5Vk0DDLc"
      },
      "execution_count": null,
      "outputs": []
    },
    {
      "cell_type": "code",
      "source": [
        "index = 1\n",
        "while True:\n",
        "      if index > 10:\n",
        "         break\n",
        "      print (f\"looping ke - {index}\")\n",
        "      index = index + 1"
      ],
      "metadata": {
        "id": "vNDc1RdWD0DC"
      },
      "execution_count": null,
      "outputs": []
    },
    {
      "cell_type": "markdown",
      "source": [
        "Sebelum lanjut \n",
        "\n",
        "### note\n",
        "  - penulisan syntax tiap bahasa berbeda beda, tapi fungsinya sama\n",
        "  - latih logikanya jangan syntaxnya\n",
        "  - biar terbiasa dengan syntax coba yang namanya \"trial n error\"\n",
        "  - kalau ingin menulis biasakan mengingat pembuka,penutup dan blok codenya\n",
        "    \n",
        "    contoh pada python \n",
        "\n",
        "    if arg == kondisi:\n",
        "\n",
        "        ini blok kode punya if\n",
        "\n",
        "    contoh pada PHP\n",
        "\n",
        "    function nama_function()\n",
        "     {\n",
        "       \n",
        "        ini blok kode function\n",
        "    \n",
        "     }\n",
        "    \n",
        "    jika menulisnya di luar dari blok kode maka kodenya akan di anggap bukan bagian dari blok tsb\n",
        " \n",
        "  - gunakan nama variabel sesuai dengan isi nilainya\n",
        "\n",
        "  - sebelum memakai variabel wajib di inisialisasi kan terlebih dahulu\n",
        "\n",
        "      contoh salah \n",
        "\n",
        "      if gorengan == \"ubi\":\n",
        "\n",
        "         do something \n",
        "      \n",
        "      contoh benar \n",
        "\n",
        "      gorengan = \"ubi\"\n",
        "\n",
        "      if gorengan == \"ubi\":\n",
        "         do something"
      ],
      "metadata": {
        "id": "Qk-8C6RPFXr8"
      }
    },
    {
      "cell_type": "markdown",
      "source": [
        "## function\n",
        "\n",
        "function berisi sekumpulan perintah / code. \n",
        "\n",
        "### note\n",
        "- function biasanya sesuai dengan use case, 1 function berisi 1 case\n",
        "  contoh: function menghitung rumus segitiga harus berbeda dengan function menghitung rumus persegi\n",
        "\n",
        "- function bersifat reuseable (dapat di gunakan lagi)\n",
        "  \n",
        "  contoh: function untuk memvalidasi suatu data, dapat digunakan di banyak case"
      ],
      "metadata": {
        "id": "NoY0QV3wlKer"
      }
    },
    {
      "cell_type": "code",
      "source": [
        "def sayHello():\n",
        "    print(\"hello\")\n",
        "sayHello()"
      ],
      "metadata": {
        "id": "tI0KS_T3ly8V"
      },
      "execution_count": null,
      "outputs": []
    },
    {
      "cell_type": "markdown",
      "source": [
        "### argument / parameter\n",
        "\n",
        "setiap function dapat diberikan suatu parameter (passing data to function)"
      ],
      "metadata": {
        "id": "sU-QMKq0nNUg"
      }
    },
    {
      "cell_type": "code",
      "source": [
        "def whoAmI(name):\n",
        "    print(name)\n",
        "\n",
        "whoAmI(\"Udin\")"
      ],
      "metadata": {
        "id": "z4x4vkhEnLHr"
      },
      "execution_count": null,
      "outputs": []
    },
    {
      "cell_type": "markdown",
      "source": [
        "### function expression\n",
        "\n",
        "function yang dapat mengembalikan nilai"
      ],
      "metadata": {
        "id": "ArOMYBzmoHBq"
      }
    },
    {
      "cell_type": "code",
      "source": [
        "def calculateDiscount(value,discount):\n",
        "    return value - discount"
      ],
      "metadata": {
        "id": "qA6-xdBmoZZX"
      },
      "execution_count": null,
      "outputs": []
    },
    {
      "cell_type": "code",
      "source": [
        "flashSaleProducts = [\n",
        "    {\"name\": \"pomade\",\"price\":5},\n",
        "    {\"name\": \"ferrari\", \"price\":2000}\n",
        "]\n",
        "flashSaleProducts"
      ],
      "metadata": {
        "id": "oQeNHyhbpU39"
      },
      "execution_count": null,
      "outputs": []
    },
    {
      "cell_type": "code",
      "source": [
        "def setFlashSale():\n",
        "    newProduct = []\n",
        "    for product in flashSaleProducts:\n",
        "        newPrice = calculateDiscount(product[\"price\"],2)\n",
        "        newProduct.append(\n",
        "           {\"name\": product[\"name\"],\"price\" : newPrice }\n",
        "        )\n",
        "    return newProduct"
      ],
      "metadata": {
        "id": "TUjT2Cg-quOH"
      },
      "execution_count": null,
      "outputs": []
    },
    {
      "cell_type": "code",
      "source": [
        "setFlashSale()"
      ],
      "metadata": {
        "id": "gTzZKfrrrBxZ"
      },
      "execution_count": null,
      "outputs": []
    },
    {
      "cell_type": "markdown",
      "source": [
        "## Pertanyaan"
      ],
      "metadata": {
        "id": "yYw5DOq2vKmb"
      }
    }
  ]
}