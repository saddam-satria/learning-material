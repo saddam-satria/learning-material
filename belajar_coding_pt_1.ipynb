{
  "nbformat": 4,
  "nbformat_minor": 0,
  "metadata": {
    "colab": {
      "provenance": [],
      "collapsed_sections": [
        "NoY0QV3wlKer",
        "sU-QMKq0nNUg",
        "ArOMYBzmoHBq"
      ],
      "authorship_tag": "ABX9TyMrHfuRHoEjhyfizwGBlbql",
      "include_colab_link": true
    },
    "kernelspec": {
      "name": "python3",
      "display_name": "Python 3"
    },
    "language_info": {
      "name": "python"
    }
  },
  "cells": [
    {
      "cell_type": "markdown",
      "metadata": {
        "id": "view-in-github",
        "colab_type": "text"
      },
      "source": [
        "<a href=\"https://colab.research.google.com/github/saddam-satria/learning-material/blob/master/belajar_coding_pt_1.ipynb\" target=\"_parent\"><img src=\"https://colab.research.google.com/assets/colab-badge.svg\" alt=\"Open In Colab\"/></a>"
      ]
    },
    {
      "cell_type": "markdown",
      "source": [
        "\n",
        "## Variabel\n",
        "\n",
        "Variabel digunakan ketika kita ingin menampung sementara suatu nilai \n",
        "\n",
        "*note \n",
        "jangan terlalu banyak membuat variabel karena nantinya variabel akan di simpan kedalam memory"
      ],
      "metadata": {
        "id": "mozREnOp6CXO"
      }
    },
    {
      "cell_type": "code",
      "execution_count": 2,
      "metadata": {
        "id": "6Sl1QzIu3Igu",
        "colab": {
          "base_uri": "https://localhost:8080/"
        },
        "outputId": "595d78d9-4be0-4a82-c647-8bc863c7f078"
      },
      "outputs": [
        {
          "output_type": "execute_result",
          "data": {
            "text/plain": [
              "(10, 20)"
            ]
          },
          "metadata": {},
          "execution_count": 2
        }
      ],
      "source": [
        "a = 10\n",
        "b = 20\n",
        "a,b"
      ]
    },
    {
      "cell_type": "markdown",
      "source": [
        "terdapat 2 variabel yaitu a dan b dengan nilai masing² yaitu 10 dan 20\n",
        "\n",
        "\n",
        "#### note\n",
        "nilai dalam variabel itu bebas, kita bisa menyimpan apapun di dalam variabel\n",
        "\n",
        "#### studi kasus\n",
        "- biasanya pada pembuatan back end setiap query data dari database akan di simpan ke dalam variabel untuk di proses selanjutnya\n",
        "\n",
        "- pada front end biasanya variabel digunakan untuk menampung nilai tertentu yang sifatnya dynamic (berubah ubah)\n",
        "\n",
        "- pada kasus tertentu variabel juga dapat bersifat function"
      ],
      "metadata": {
        "id": "oG_QU3FB6jso"
      }
    },
    {
      "cell_type": "code",
      "source": [
        "b = a + b"
      ],
      "metadata": {
        "id": "m1yVTxBN8V8W"
      },
      "execution_count": 4,
      "outputs": []
    },
    {
      "cell_type": "code",
      "source": [
        "print(b)"
      ],
      "metadata": {
        "id": "y_-xeWvU8ajd"
      },
      "execution_count": null,
      "outputs": []
    },
    {
      "cell_type": "markdown",
      "source": [
        "## tipe data\n",
        "\n",
        "1. Int \n",
        "2. Float\n",
        "3. String\n",
        "4. Array\n",
        "5. Object (dictionary)\n",
        "6. boolean"
      ],
      "metadata": {
        "id": "BaO64r718dHQ"
      }
    },
    {
      "cell_type": "code",
      "source": [
        "# 1-10\n",
        "data = [1,2,3,4,5]\n",
        "data"
      ],
      "metadata": {
        "id": "FCcjHJNvY_7j"
      },
      "execution_count": null,
      "outputs": []
    },
    {
      "cell_type": "code",
      "source": [
        "a = 10\n",
        "b = 2.0\n",
        "c = \"belajar coding\"\n",
        "d = [\"test\",1]\n",
        "\n",
        "e = {\"a\" : \"coding\", \"b\": 1}\n",
        "\n",
        "f = True"
      ],
      "metadata": {
        "id": "oLPJXCbm8s7u"
      },
      "execution_count": 20,
      "outputs": []
    },
    {
      "cell_type": "code",
      "source": [
        "print (type(a))\n",
        "print (type(b))\n",
        "print (type(c))\n",
        "print (type(d))\n",
        "print (type(e))\n",
        "print (type(f))"
      ],
      "metadata": {
        "id": "yawj26Qr9CgS"
      },
      "execution_count": null,
      "outputs": []
    },
    {
      "cell_type": "markdown",
      "source": [
        "\n",
        "#### tipe data yang sering digunakan\n",
        "1. int,float,string,boolean\n",
        "2. array \n",
        "3. object/dictionary\n",
        "4. array object / array associative (PHP)\n",
        "\n",
        "\n",
        "#### array object (point ke-4) case\n",
        "- biasanya data yang di ambil dari database\n",
        "- ketika memasukkan data ke dalam database\n",
        "- bentuk format JSON / Ajax (http request) selalu dikembalikan dalam bentuk array object \n",
        "  contoh: list produk yang memiliki nama di tiap produknya"
      ],
      "metadata": {
        "id": "Z98-HKYq9yQW"
      }
    },
    {
      "cell_type": "code",
      "source": [
        "products = [\n",
        "   {\n",
        "     \"name\" : \"candy\",\n",
        "      \"price\" : 1\n",
        "   },\n",
        "   {\n",
        "     \"name\": \"chocolate\",\n",
        "     \"price\" : 2\n",
        "   }\n",
        "]"
      ],
      "metadata": {
        "id": "QJTD6Gva_QXU"
      },
      "execution_count": 9,
      "outputs": []
    },
    {
      "cell_type": "markdown",
      "source": [
        "untuk memproses data seperti di butuhkan looping (perulangan)"
      ],
      "metadata": {
        "id": "uBERCpar_y9S"
      }
    },
    {
      "cell_type": "code",
      "source": [
        "for i in products:\n",
        "    print (i[\"name\"])\n",
        "print(\"*\"*20)\n",
        "for i in products:\n",
        "    print(i[\"price\"])"
      ],
      "metadata": {
        "id": "HdTSDWkK_vDj"
      },
      "execution_count": null,
      "outputs": []
    },
    {
      "cell_type": "markdown",
      "source": [
        "Convert tipe data dapat dilakukan jika tipe data tidak sesuai\n",
        "\n",
        "- biasanya pada operasi matematika dibutuhkan tipe data int/float, namun sering kali data yang diterima dan akan diproses bertipe data string"
      ],
      "metadata": {
        "id": "XFrD7Zh7sfog"
      }
    },
    {
      "cell_type": "code",
      "source": [
        "x = 10\n",
        "print (type(x))\n",
        "x = str(x)\n",
        "print (type(x))"
      ],
      "metadata": {
        "id": "OelMD0aJskr4"
      },
      "execution_count": null,
      "outputs": []
    },
    {
      "cell_type": "code",
      "source": [
        "if not type(x) is int:\n",
        "   raise TypeError(\"x is not number\")"
      ],
      "metadata": {
        "id": "E5j2jOGguDAn"
      },
      "execution_count": null,
      "outputs": []
    },
    {
      "cell_type": "code",
      "source": [
        "userInput = input (\"choose 1-100 \")\n",
        "print (type(userInput))\n",
        "\n",
        "userInput = int(userInput)\n",
        "print (type(userInput))"
      ],
      "metadata": {
        "id": "SailAY8EtBye"
      },
      "execution_count": null,
      "outputs": []
    },
    {
      "cell_type": "code",
      "source": [
        "z = True\n",
        "if z:\n",
        "  print(\"benar\")\n",
        "else:\n",
        "  print('salah')"
      ],
      "metadata": {
        "id": "r8xJCd2Qay_H"
      },
      "execution_count": null,
      "outputs": []
    },
    {
      "cell_type": "markdown",
      "source": [
        "## looping & pengkondisian\n",
        "\n",
        "\n",
        "#### note\n",
        "- pada dasarnya cara komputer memproses script adalah dari atas sampai ke bawah dan dilakukan secara synchronous \n",
        "\n",
        "  artinya ketika ada suatu perulangan, maka perulangan tsb harus berhenti terlebih dahulu baru code berikutnya dijalankan\n",
        "\n",
        "- tips untuk pengkondisian, jangan fokus kepada pengkondisian bersarang,tunggal,dll. Karena, pengkondisian tetaplah kondisi jadi harus sesuai sama casenya nanti\n",
        "  \n",
        "  jika terlalu banyak if maka program akan sulit untuk dibaca oleh manusia, maka dari itu buatlah function khusus untuk pengkondisian saja dengan bantuan tipe data boolean sebagai acuannya (triggernya). Akan di bahas pada sesi function"
      ],
      "metadata": {
        "id": "EFvu6oHuBJXr"
      }
    },
    {
      "cell_type": "code",
      "source": [
        "print(\"looping berjalan\")\n",
        "\n",
        "for i in range (1,11):\n",
        "    print(f\"looping ke-{i}\")\n",
        "\n",
        "\n",
        "print (\"looping terhenti\")"
      ],
      "metadata": {
        "id": "Domx5J7hCjsl"
      },
      "execution_count": null,
      "outputs": []
    },
    {
      "cell_type": "code",
      "source": [
        "product = products [0]\n",
        "\n",
        "if product[\"name\"] == \"candy\":\n",
        "   print(\"this is a candy\")\n",
        "else:\n",
        "   print(\"this is not candy\")"
      ],
      "metadata": {
        "id": "C1zn5Vk0DDLc"
      },
      "execution_count": null,
      "outputs": []
    },
    {
      "cell_type": "code",
      "source": [
        "index = 1\n",
        "while True:\n",
        "    if index > 100000000000000000000:\n",
        "        break\n",
        "    print (f\"looping ke - {index}\")\n",
        "    index = index + 1"
      ],
      "metadata": {
        "id": "vNDc1RdWD0DC"
      },
      "execution_count": null,
      "outputs": []
    },
    {
      "cell_type": "markdown",
      "source": [
        "Sebelum lanjut \n",
        "\n",
        "### note\n",
        "  - penulisan syntax tiap bahasa berbeda beda, tapi fungsinya sama\n",
        "  - latih logikanya jangan syntaxnya\n",
        "  - biar terbiasa dengan syntax coba yang namanya \"trial n error\"\n",
        "  - kalau ingin menulis biasakan mengingat pembuka,penutup dan blok codenya\n",
        "    \n",
        "    contoh pada python \n",
        "\n",
        "    if arg == kondisi:\n",
        "\n",
        "        ini blok kode punya if\n",
        "\n",
        "    contoh pada PHP\n",
        "\n",
        "    function nama_function()\n",
        "     {\n",
        "       \n",
        "        ini blok kode function\n",
        "     }\n",
        "    \n",
        "    jika menulisnya di luar dari blok kode maka kodenya akan di anggap bukan bagian dari blok tsb\n",
        " \n",
        "  - gunakan nama variabel sesuai dengan isi nilainya\n",
        "\n",
        "  - sebelum memakai variabel wajib di inisialisasi kan terlebih dahulu\n",
        "\n",
        "      contoh salah \n",
        "\n",
        "      if gorengan == \"ubi\":\n",
        "\n",
        "         do something \n",
        "      \n",
        "      contoh benar \n",
        "\n",
        "      gorengan = \"ubi\"\n",
        "\n",
        "      if gorengan == \"ubi\":\n",
        "         do something"
      ],
      "metadata": {
        "id": "Qk-8C6RPFXr8"
      }
    },
    {
      "cell_type": "markdown",
      "source": [
        "## function\n",
        "\n",
        "function berisi sekumpulan perintah / code. \n",
        "\n",
        "### note\n",
        "- function biasanya sesuai dengan use case, 1 function berisi 1 case\n",
        "  contoh: function menghitung rumus segitiga harus berbeda dengan function menghitung rumus persegi\n",
        "\n",
        "- function bersifat reuseable (dapat di gunakan lagi)\n",
        "  \n",
        "  contoh: function untuk memvalidasi suatu data, dapat digunakan di banyak case"
      ],
      "metadata": {
        "id": "NoY0QV3wlKer"
      }
    },
    {
      "cell_type": "code",
      "source": [
        "def sayHello():\n",
        "    print(\"hello\")\n",
        "\n",
        "sayHello()"
      ],
      "metadata": {
        "id": "tI0KS_T3ly8V",
        "colab": {
          "base_uri": "https://localhost:8080/"
        },
        "outputId": "d9adc896-38f9-4804-fab4-fc5c86f58ca8"
      },
      "execution_count": 31,
      "outputs": [
        {
          "output_type": "stream",
          "name": "stdout",
          "text": [
            "hello\n"
          ]
        }
      ]
    },
    {
      "cell_type": "markdown",
      "source": [
        "### argument / parameter\n",
        "\n",
        "setiap function dapat diberikan suatu parameter (passing data to function)"
      ],
      "metadata": {
        "id": "sU-QMKq0nNUg"
      }
    },
    {
      "cell_type": "code",
      "source": [
        "def whoAmI(name):\n",
        "    print(name)\n",
        "\n",
        "whoAmI(\"Udin\")\n"
      ],
      "metadata": {
        "id": "z4x4vkhEnLHr",
        "colab": {
          "base_uri": "https://localhost:8080/"
        },
        "outputId": "9a60faeb-1831-4f5e-f7e8-f496989a7a8d"
      },
      "execution_count": 35,
      "outputs": [
        {
          "output_type": "stream",
          "name": "stdout",
          "text": [
            "Udin\n"
          ]
        }
      ]
    },
    {
      "cell_type": "markdown",
      "source": [
        "### function expression\n",
        "\n",
        "function yang dapat mengembalikan nilai"
      ],
      "metadata": {
        "id": "ArOMYBzmoHBq"
      }
    },
    {
      "cell_type": "code",
      "source": [
        "def calculateDiscount(value,discount):\n",
        "    return value - discount"
      ],
      "metadata": {
        "id": "qA6-xdBmoZZX"
      },
      "execution_count": 36,
      "outputs": []
    },
    {
      "cell_type": "code",
      "source": [
        "flashSaleProducts = [\n",
        "    {\"name\": \"pomade\",\"price\":5},\n",
        "    {\"name\": \"ferrari\", \"price\":2000}\n",
        "]\n",
        "flashSaleProducts"
      ],
      "metadata": {
        "id": "oQeNHyhbpU39",
        "colab": {
          "base_uri": "https://localhost:8080/"
        },
        "outputId": "f382113a-7aa7-4df9-bce7-cd46d7ef5f26"
      },
      "execution_count": 40,
      "outputs": [
        {
          "output_type": "execute_result",
          "data": {
            "text/plain": [
              "[{'name': 'pomade', 'price': 5}, {'name': 'ferrari', 'price': 2000}]"
            ]
          },
          "metadata": {},
          "execution_count": 40
        }
      ]
    },
    {
      "cell_type": "code",
      "source": [
        "def setFlashSale():\n",
        "    newProduct = []\n",
        "    for product in flashSaleProducts:\n",
        "        newPrice = calculateDiscount(product[\"price\"],2)\n",
        "        newProduct.append(\n",
        "           {\"name\": product[\"name\"],\"price\" : newPrice }\n",
        "        )\n",
        "    return newProduct"
      ],
      "metadata": {
        "id": "TUjT2Cg-quOH"
      },
      "execution_count": 46,
      "outputs": []
    },
    {
      "cell_type": "code",
      "source": [
        "z = setFlashSale()\n",
        "print(z)"
      ],
      "metadata": {
        "id": "gTzZKfrrrBxZ",
        "colab": {
          "base_uri": "https://localhost:8080/"
        },
        "outputId": "402f5c9b-e5d8-4acc-ab73-d3e2e78f5a45"
      },
      "execution_count": 47,
      "outputs": [
        {
          "output_type": "stream",
          "name": "stdout",
          "text": [
            "[{'name': 'pomade', 'price': 3}, {'name': 'ferrari', 'price': 1998}]\n"
          ]
        }
      ]
    },
    {
      "cell_type": "markdown",
      "source": [
        "## Pertanyaan\n",
        "\n",
        "1. Python Bisa Pake Callback ga\n",
        "2. def hello(name):\n",
        "    sayTo(\"name\"):\n",
        "  def hello(name):\n",
        "    sayTo(name)\n",
        "3. kegunaan def\n",
        "4. kak , kalau make bahasa python bisa dipake buat bikin website ga ?\n",
        "  framework: flask,django,fastAPI"
      ],
      "metadata": {
        "id": "yYw5DOq2vKmb"
      }
    },
    {
      "cell_type": "code",
      "source": [
        "# 1\n",
        "\n",
        "def sayTo(name):\n",
        "    print(name)\n",
        "\n",
        "def hello(name):\n",
        "    sayTo(name)\n",
        "\n",
        "sayTo(\"Hilman\")"
      ],
      "metadata": {
        "colab": {
          "base_uri": "https://localhost:8080/"
        },
        "id": "8oL_5aaueVni",
        "outputId": "05263e8f-6846-406c-f7c8-9090a7140494"
      },
      "execution_count": 56,
      "outputs": [
        {
          "output_type": "stream",
          "name": "stdout",
          "text": [
            "Hilman\n"
          ]
        }
      ]
    },
    {
      "cell_type": "code",
      "source": [
        "# 1.1\n",
        "# tidak bisa di python\n",
        "def animal(mentionName):\n",
        "    return mentionName()\n",
        "\n",
        "#1.1 JS\n",
        "#function animal(callback) {\n",
        "#    callback(\"hello\")\n",
        "#}"
      ],
      "metadata": {
        "id": "P0CExbMzej7w"
      },
      "execution_count": 55,
      "outputs": []
    },
    {
      "cell_type": "code",
      "source": [
        "# 2\n",
        "# function 1\n",
        "def hello(name):\n",
        "    sayTo(name)\n",
        "# function 2\n",
        "def sayTo(name):\n",
        "    print(name)\n",
        "\n",
        "sayTo(\"stefanus\")"
      ],
      "metadata": {
        "id": "WJ6QjIACgEXW"
      },
      "execution_count": null,
      "outputs": []
    },
    {
      "cell_type": "code",
      "source": [
        "#3 \n",
        "# untuk mendefinisikan / menginisialisasi sebuah function\n",
        "def hello():\n",
        "    print(\"hello world\")"
      ],
      "metadata": {
        "id": "-H1sCP8DgUw7"
      },
      "execution_count": 61,
      "outputs": []
    }
  ]
}