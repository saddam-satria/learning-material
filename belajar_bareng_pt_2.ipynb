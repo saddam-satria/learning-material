{
  "nbformat": 4,
  "nbformat_minor": 0,
  "metadata": {
    "colab": {
      "provenance": [],
      "authorship_tag": "ABX9TyPy70ipTQZAZd483q/m/xWo",
      "include_colab_link": true
    },
    "kernelspec": {
      "name": "python3",
      "display_name": "Python 3"
    },
    "language_info": {
      "name": "python"
    }
  },
  "cells": [
    {
      "cell_type": "markdown",
      "metadata": {
        "id": "view-in-github",
        "colab_type": "text"
      },
      "source": [
        "<a href=\"https://colab.research.google.com/github/saddam-satria/learning-material/blob/master/belajar_bareng_pt_2.ipynb\" target=\"_parent\"><img src=\"https://colab.research.google.com/assets/colab-badge.svg\" alt=\"Open In Colab\"/></a>"
      ]
    },
    {
      "cell_type": "markdown",
      "source": [
        "## preview pertemuan 1\n",
        "\n",
        "study case (easy to medium)\n",
        "(Easy)\n",
        "1. Menghitung rata²\n",
        "2. compare satu nilai mahasiswa dengan rata² yg sudah di buat, jika nilai mahasiswa lebih tinggi dari rata², lulus, jika tidak, tidak lulus\n",
        "\n",
        "(Medium)\n",
        "1. simpan data kedalam list (anggap saja datanya dari database) \n",
        "   setiap data memiliki nama key (kunci / kolom)\n",
        "  - nama (string)\n",
        "  - nim (number)\n",
        "  - no_hp (number)\n",
        "  - instagram (string)\n",
        "  - gender (bool)\n",
        "\n",
        "2. buat fitur pencarian berdasarkan nim"
      ],
      "metadata": {
        "id": "jPfQM08WfsLH"
      }
    },
    {
      "cell_type": "markdown",
      "source": [
        "asumsikan bahwa setiap nilai sifatnya dynamic (bisa berubah kapanpun)\n",
        "\n",
        "Clue \n",
        "1. Buat function setiap case\n",
        "2. Gunakan list / array \n",
        "3. Setiap function menerima parameter (karena dynamic) \n",
        "4. sesuaikan tipe datanya"
      ],
      "metadata": {
        "id": "7GLaJlCsiI-4"
      }
    },
    {
      "cell_type": "markdown",
      "source": [
        "### studi kasus 1"
      ],
      "metadata": {
        "id": "ywQ378Nvmcr4"
      }
    },
    {
      "cell_type": "code",
      "execution_count": null,
      "metadata": {
        "id": "SiT-KgulfraO"
      },
      "outputs": [],
      "source": [
        "def mean(datas):\n",
        "    # rumus \n",
        "    # jumlah data / total data\n",
        "    if not type(datas) is list:\n",
        "       raise TypeError(\"data must be a list\")\n",
        "    total_data = len(datas)\n",
        "    sum = 0\n",
        "    for data in datas:\n",
        "        sum = sum + data\n",
        "    return int(sum / total_data)"
      ]
    },
    {
      "cell_type": "code",
      "source": [
        "mean([10,10,10])"
      ],
      "metadata": {
        "colab": {
          "base_uri": "https://localhost:8080/"
        },
        "id": "SsoI_-zWjRVB",
        "outputId": "8affc6d4-324c-42f2-a263-ebfecb86249b"
      },
      "execution_count": null,
      "outputs": [
        {
          "output_type": "execute_result",
          "data": {
            "text/plain": [
              "10"
            ]
          },
          "metadata": {},
          "execution_count": 35
        }
      ]
    },
    {
      "cell_type": "code",
      "source": [
        "def graduated(student_value,student_values):\n",
        "    if not type (student_value) is int or not type(student_values) is list:\n",
        "       raise TypeError (\"arguments must be integer & list\")\n",
        "    means= mean(student_values)\n",
        "    if student_value > means:\n",
        "       return \"lulus\"\n",
        "    return \"tidak lulus\""
      ],
      "metadata": {
        "id": "4DdOT9h8k0b1"
      },
      "execution_count": null,
      "outputs": []
    },
    {
      "cell_type": "code",
      "source": [
        "student_values = [70,80,60,80,60,50,80,90]\n",
        "student_value = 72\n",
        "\n",
        "print (f\"nilai aktual: {student_value}\")\n",
        "print(f\"rata-rata: {mean(student_values)}\")\n",
        "print(f\"hasil: {graduated (student_value,student_values)}\")"
      ],
      "metadata": {
        "colab": {
          "base_uri": "https://localhost:8080/"
        },
        "id": "oX9x-xdcl6BB",
        "outputId": "5e147568-822d-48db-b8c7-d075eec3ac6e"
      },
      "execution_count": null,
      "outputs": [
        {
          "output_type": "stream",
          "name": "stdout",
          "text": [
            "nilai aktual: 72\n",
            "rata-rata: 71\n",
            "hasil: lulus\n"
          ]
        }
      ]
    },
    {
      "cell_type": "markdown",
      "source": [
        "#### pembahasan"
      ],
      "metadata": {
        "id": "eISxtMoSog0F"
      }
    },
    {
      "cell_type": "markdown",
      "source": [
        "### studi kasus 2"
      ],
      "metadata": {
        "id": "CPCfMOYemw2V"
      }
    },
    {
      "cell_type": "code",
      "source": [
        "students = []"
      ],
      "metadata": {
        "id": "n3c_R2z6myqx"
      },
      "execution_count": null,
      "outputs": []
    },
    {
      "cell_type": "code",
      "source": [
        "def findByNIM(nim):\n",
        "    if not type (nim) is str:\n",
        "       raise TypeError (\"must be string\")\n",
        "    foundStudent = []\n",
        "    for student in students:\n",
        "        if student[\"nim\"] == nim:\n",
        "           foundStudent.append(student)\n",
        "    return foundStudent"
      ],
      "metadata": {
        "id": "J7It0GnsnK1x"
      },
      "execution_count": null,
      "outputs": []
    },
    {
      "cell_type": "code",
      "source": [
        "findByNIM(\"123456\")"
      ],
      "metadata": {
        "id": "95oKGjRBoBIU"
      },
      "execution_count": null,
      "outputs": []
    },
    {
      "cell_type": "markdown",
      "source": [
        "#### pembahasan"
      ],
      "metadata": {
        "id": "__rlpYLnotxL"
      }
    },
    {
      "cell_type": "markdown",
      "source": [
        "## pertanyaan"
      ],
      "metadata": {
        "id": "Z7pVAM0vp2hg"
      }
    }
  ]
}