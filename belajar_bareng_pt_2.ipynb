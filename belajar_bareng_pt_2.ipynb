{
  "nbformat": 4,
  "nbformat_minor": 0,
  "metadata": {
    "colab": {
      "provenance": [],
      "collapsed_sections": [],
      "authorship_tag": "ABX9TyMICbTUPA/c6hFDChPm2ue7",
      "include_colab_link": true
    },
    "kernelspec": {
      "name": "python3",
      "display_name": "Python 3"
    },
    "language_info": {
      "name": "python"
    }
  },
  "cells": [
    {
      "cell_type": "markdown",
      "metadata": {
        "id": "view-in-github",
        "colab_type": "text"
      },
      "source": [
        "<a href=\"https://colab.research.google.com/github/saddam-satria/learning-material/blob/master/belajar_bareng_pt_2.ipynb\" target=\"_parent\"><img src=\"https://colab.research.google.com/assets/colab-badge.svg\" alt=\"Open In Colab\"/></a>"
      ]
    },
    {
      "cell_type": "markdown",
      "source": [
        "## preview pertemuan 1\n",
        "\n",
        "study case (easy to medium)\n",
        "(Easy)\n",
        "1. Menghitung rata²\n",
        "2. compare satu nilai mahasiswa dengan rata² yg sudah di buat, jika nilai mahasiswa lebih tinggi dari rata², lulus, jika tidak, tidak lulus\n",
        "\n",
        "(Medium)\n",
        "1. simpan data kedalam list (anggap saja datanya dari database) \n",
        "   setiap data memiliki nama key (kunci / kolom)\n",
        "  - nama (string)\n",
        "  - nim (number)\n",
        "  - no_hp (number)\n",
        "  - instagram (string)\n",
        "  - gender (bool)\n",
        "\n",
        "2. buat fitur pencarian berdasarkan nim"
      ],
      "metadata": {
        "id": "jPfQM08WfsLH"
      }
    },
    {
      "cell_type": "markdown",
      "source": [
        "asumsikan bahwa setiap nilai sifatnya dynamic (bisa berubah kapanpun)\n",
        "\n",
        "Clue \n",
        "1. Buat function setiap case\n",
        "2. Gunakan list / array \n",
        "3. Setiap function menerima parameter (karena dynamic) \n",
        "4. sesuaikan tipe datanya"
      ],
      "metadata": {
        "id": "7GLaJlCsiI-4"
      }
    },
    {
      "cell_type": "markdown",
      "source": [
        "### studi kasus 1"
      ],
      "metadata": {
        "id": "ywQ378Nvmcr4"
      }
    },
    {
      "cell_type": "code",
      "execution_count": 2,
      "metadata": {
        "id": "SiT-KgulfraO"
      },
      "outputs": [],
      "source": [
        "def mean(datas):\n",
        "    # rumus \n",
        "    # jumlah data / total data\n",
        "   \n",
        "    if not type(datas) is list:\n",
        "       raise TypeError(\"data must be a list\")\n",
        "    total_data = len(datas)\n",
        "    sum = 0\n",
        "    for data in datas:\n",
        "        sum = sum + data\n",
        "    return int(sum / total_data)"
      ]
    },
    {
      "cell_type": "code",
      "source": [
        "mean([10,10,10,20])"
      ],
      "metadata": {
        "colab": {
          "base_uri": "https://localhost:8080/"
        },
        "id": "SsoI_-zWjRVB",
        "outputId": "4ffa95f1-407e-4c11-d8a0-40260f6e31da"
      },
      "execution_count": 6,
      "outputs": [
        {
          "output_type": "execute_result",
          "data": {
            "text/plain": [
              "12"
            ]
          },
          "metadata": {},
          "execution_count": 6
        }
      ]
    },
    {
      "cell_type": "code",
      "source": [
        "def graduated(student_value,student_values):\n",
        "    if not type (student_value) is int or not type(student_values) is list:\n",
        "       raise TypeError (\"arguments must be integer & list\")\n",
        "    means= mean(student_values)\n",
        "    if student_value > means:\n",
        "       return \"lulus\"\n",
        "    \n",
        "    return \"tidak lulus\""
      ],
      "metadata": {
        "id": "4DdOT9h8k0b1"
      },
      "execution_count": 7,
      "outputs": []
    },
    {
      "cell_type": "code",
      "source": [
        "student_values = [80,80,50,60,70]\n",
        "student_value = 69 #nilai mahasiswa yang baru\n",
        "\n",
        "print (f\"nilai aktual: {student_value}\")\n",
        "print(f\"rata-rata: {mean(student_values)}\")\n",
        "print(f\"hasil: {graduated (student_value,student_values)}\")"
      ],
      "metadata": {
        "colab": {
          "base_uri": "https://localhost:8080/"
        },
        "id": "oX9x-xdcl6BB",
        "outputId": "04142b05-fac7-4e4a-9469-f22c3d2b46f1"
      },
      "execution_count": 11,
      "outputs": [
        {
          "output_type": "stream",
          "name": "stdout",
          "text": [
            "nilai aktual: 69\n",
            "rata-rata: 68\n",
            "hasil: lulus\n"
          ]
        }
      ]
    },
    {
      "cell_type": "markdown",
      "source": [
        "#### pembahasan"
      ],
      "metadata": {
        "id": "eISxtMoSog0F"
      }
    },
    {
      "cell_type": "markdown",
      "source": [
        "1. Buat terlebih dahulu function mean untuk menghitung rata2 (agar function bersifat reuseable)\n",
        "2. Buat function untuk mengolah data siswa\n",
        "3. Setiap function mereturn nilai \n",
        "\n",
        "Contoh![material.png](data:image/png;base64,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) \n",
        "\n"
      ],
      "metadata": {
        "id": "2mp5ag6wj0_Y"
      }
    },
    {
      "cell_type": "markdown",
      "source": [
        "### studi kasus 2"
      ],
      "metadata": {
        "id": "CPCfMOYemw2V"
      }
    },
    {
      "cell_type": "code",
      "source": [
        "students = [\n",
        "    {\n",
        "        \"name\" : \"A\",\n",
        "        \"nim\" : \"1231\"\n",
        "    },\n",
        "    {\n",
        "        \"name\" : \"B\",\n",
        "        \"nim\" : \"1232\"\n",
        "    },\n",
        "    {\n",
        "        \"name\" : \"C\",\n",
        "        \"nim\" : \"1233\"\n",
        "    },\n",
        "    {\n",
        "        \"name\" : \"D\",\n",
        "        \"nim\" : \"1234\"\n",
        "    },\n",
        "    {\n",
        "        \"name\" : \"E\",\n",
        "        \"nim\" : \"1235\"\n",
        "    },\n",
        "    {\n",
        "        \"name\" : \"E\",\n",
        "        \"nim\" : \"1235\"\n",
        "    },\n",
        "    {\n",
        "        \"name\" : \"E\",\n",
        "        \"nim\" : \"1235\"\n",
        "    },\n",
        "]\n",
        "\n",
        "# Looping (perulangan)\n",
        "# <span><?= $student->name?></span>\n",
        "\n",
        "# SELECT name,nim FROM student;"
      ],
      "metadata": {
        "id": "n3c_R2z6myqx"
      },
      "execution_count": 23,
      "outputs": []
    },
    {
      "cell_type": "code",
      "source": [
        "def findByNIM(nim):\n",
        "    if not type (nim) is str:\n",
        "       raise TypeError (\"must be string\")\n",
        "    foundStudent = []\n",
        "    for student in students:\n",
        "        if student[\"nim\"] == nim:\n",
        "           foundStudent.append(student)\n",
        "    return foundStudent"
      ],
      "metadata": {
        "id": "J7It0GnsnK1x"
      },
      "execution_count": 24,
      "outputs": []
    },
    {
      "cell_type": "code",
      "source": [
        "findByNIM(\"1231\")\n",
        "\n",
        "# input search\n",
        "# asdassdasdas\n",
        "#[\n",
        "#    {}\n",
        "#]\n",
        "#{}\n",
        "\n",
        "# SELECT name,nim FROM student where NIM = \"1231\""
      ],
      "metadata": {
        "id": "95oKGjRBoBIU",
        "colab": {
          "base_uri": "https://localhost:8080/"
        },
        "outputId": "0b96083b-d59b-43a9-d6ef-8640636ce1f0"
      },
      "execution_count": 25,
      "outputs": [
        {
          "output_type": "execute_result",
          "data": {
            "text/plain": [
              "[{'name': 'A', 'nim': '1231'}]"
            ]
          },
          "metadata": {},
          "execution_count": 25
        }
      ]
    },
    {
      "cell_type": "markdown",
      "source": [
        "#### pembahasan"
      ],
      "metadata": {
        "id": "__rlpYLnotxL"
      }
    },
    {
      "cell_type": "markdown",
      "source": [
        "1. Asumsikan data datangnya dari hasil query database\n",
        "2. Buat function untuk fitur pencarian data, dalam kasus ini datanya berupa nama dan nim\n",
        "3. Algoritma yang saya buat, setiap kali match akan di masukan ke dalam array, sehingga function akan mereturn sebuah array\n",
        "\n",
        "Contoh\n",
        "![Presentation1.png](data:image/png;base64,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)"
      ],
      "metadata": {
        "id": "JPsHdPR3mGOz"
      }
    },
    {
      "cell_type": "markdown",
      "source": [
        "Studi Kasus dalam bentuk sistem\n",
        "\n",
        "1. SELECT * FROM students where nim=\"1231\" -> execute\n",
        "2. Bentuknya akan array object \n",
        "3. Looping kedalam element html, maka data akan disajikan dalam bentuk web\n",
        "jika ingin berbentuk API, bisa di return menggunakan JSON/XML"
      ],
      "metadata": {
        "id": "DoSzBHIfnQRH"
      }
    },
    {
      "cell_type": "markdown",
      "source": [
        "### Next Materi (Caching / Memory)\n",
        "\n",
        "tips\n",
        "* latihan menggunakan 1 bahasa pemrogramman (PY,JS,PHP,GO,dan lain - lain)\n",
        "* gunakan function dalam memproses datanya \n",
        "* sebelum menggunakan database SQL / No SQL, minimal simpan data didalam memori\n",
        "(hanya merubah data yang terdapat didalam memori)"
      ],
      "metadata": {
        "id": "-rnc24mjnwL-"
      }
    },
    {
      "cell_type": "markdown",
      "source": [
        "## pertanyaan\n",
        "1. oya ka mau nanya donk yg tadi misal ngelooping trs datanya ga ketemu tadi munculnya apa ya?"
      ],
      "metadata": {
        "id": "Z7pVAM0vp2hg"
      }
    },
    {
      "cell_type": "code",
      "source": [
        "# 1.\n",
        "ketemu = findByNIM(\"1236\")\n",
        "\n",
        "print(\"ketemu\" if len(ketemu) > 0 else \"tidak ketemu\")"
      ],
      "metadata": {
        "colab": {
          "base_uri": "https://localhost:8080/"
        },
        "id": "f5-QPhEXf0Ft",
        "outputId": "946c69b4-1024-458f-a235-1a2ef3058f4b"
      },
      "execution_count": 34,
      "outputs": [
        {
          "output_type": "stream",
          "name": "stdout",
          "text": [
            "tidak ketemu\n"
          ]
        }
      ]
    },
    {
      "cell_type": "code",
      "source": [],
      "metadata": {
        "id": "22BWDifGf1iK"
      },
      "execution_count": null,
      "outputs": []
    },
    {
      "cell_type": "markdown",
      "source": [
        "## studi *kasus*\n",
        "\n",
        "1. Cari modus \n",
        "dari data 1,2,3,1,2,5,6,7,8,9,10,2,2\n",
        "2. Operasi MTK, +, -, :, x"
      ],
      "metadata": {
        "id": "88YHpyz6gsqJ"
      }
    },
    {
      "cell_type": "code",
      "source": [
        "data =[1,2,3,1,2,5,6,7,8,9,10,2,2]"
      ],
      "metadata": {
        "id": "EWcMT4IgguoB"
      },
      "execution_count": 35,
      "outputs": []
    },
    {
      "cell_type": "code",
      "source": [
        "def modus(datas):\n",
        "    pass"
      ],
      "metadata": {
        "id": "Aqqwds9Mg-qA"
      },
      "execution_count": 37,
      "outputs": []
    },
    {
      "cell_type": "code",
      "source": [
        "def matematika():\n",
        "    pass"
      ],
      "metadata": {
        "id": "uv650TPPhAIv"
      },
      "execution_count": 1,
      "outputs": []
    },
    {
      "cell_type": "code",
      "source": [],
      "metadata": {
        "id": "Ejj9XWZYhY3B"
      },
      "execution_count": null,
      "outputs": []
    }
  ]
}